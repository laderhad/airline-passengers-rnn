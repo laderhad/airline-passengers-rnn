{
 "cells": [
  {
   "cell_type": "code",
   "execution_count": 300,
   "id": "d9191564",
   "metadata": {},
   "outputs": [],
   "source": [
    "import numpy as np\n",
    "import pandas as pd\n",
    "import tensorflow as tf\n",
    "import matplotlib.pyplot as plt\n",
    "\n",
    "from sklearn.preprocessing import MinMaxScaler\n",
    "from sklearn.metrics import mean_squared_error\n",
    "\n",
    "\n",
    "from tensorflow.keras.models import Sequential\n",
    "from tensorflow.keras.layers import Dense,Dropout,SimpleRNN\n",
    "from tensorflow.keras.callbacks import ModelCheckpoint,EarlyStopping,ReduceLROnPlateau\n",
    "\n",
    "import warnings \n",
    "warnings.filterwarnings(\"ignore\")\n",
    "\n",
    "import os\n",
    "os.environ[\"RF_CPP_MIN_LOG_LEVEL\"]=\"3\"\n",
    "tf.compat.v1.logging.set_verbosity(tf.compat.v1.logging.ERROR)\n"
   ]
  },
  {
   "cell_type": "code",
   "execution_count": 301,
   "id": "ed1f0bfd",
   "metadata": {},
   "outputs": [],
   "source": [
    "df=pd.read_csv(\"international-airline-passengers.csv\")"
   ]
  },
  {
   "cell_type": "code",
   "execution_count": 302,
   "id": "54f6687c",
   "metadata": {},
   "outputs": [
    {
     "data": {
      "text/html": [
       "<div>\n",
       "<style scoped>\n",
       "    .dataframe tbody tr th:only-of-type {\n",
       "        vertical-align: middle;\n",
       "    }\n",
       "\n",
       "    .dataframe tbody tr th {\n",
       "        vertical-align: top;\n",
       "    }\n",
       "\n",
       "    .dataframe thead th {\n",
       "        text-align: right;\n",
       "    }\n",
       "</style>\n",
       "<table border=\"1\" class=\"dataframe\">\n",
       "  <thead>\n",
       "    <tr style=\"text-align: right;\">\n",
       "      <th></th>\n",
       "      <th>Month</th>\n",
       "      <th>International airline passengers: monthly totals in thousands. Jan 49 ? Dec 60</th>\n",
       "    </tr>\n",
       "  </thead>\n",
       "  <tbody>\n",
       "    <tr>\n",
       "      <th>0</th>\n",
       "      <td>1949-01</td>\n",
       "      <td>112.0</td>\n",
       "    </tr>\n",
       "    <tr>\n",
       "      <th>1</th>\n",
       "      <td>1949-02</td>\n",
       "      <td>118.0</td>\n",
       "    </tr>\n",
       "    <tr>\n",
       "      <th>2</th>\n",
       "      <td>1949-03</td>\n",
       "      <td>132.0</td>\n",
       "    </tr>\n",
       "    <tr>\n",
       "      <th>3</th>\n",
       "      <td>1949-04</td>\n",
       "      <td>129.0</td>\n",
       "    </tr>\n",
       "    <tr>\n",
       "      <th>4</th>\n",
       "      <td>1949-05</td>\n",
       "      <td>121.0</td>\n",
       "    </tr>\n",
       "  </tbody>\n",
       "</table>\n",
       "</div>"
      ],
      "text/plain": [
       "     Month  International airline passengers: monthly totals in thousands. Jan 49 ? Dec 60\n",
       "0  1949-01                                              112.0                             \n",
       "1  1949-02                                              118.0                             \n",
       "2  1949-03                                              132.0                             \n",
       "3  1949-04                                              129.0                             \n",
       "4  1949-05                                              121.0                             "
      ]
     },
     "execution_count": 302,
     "metadata": {},
     "output_type": "execute_result"
    }
   ],
   "source": [
    "df.head()"
   ]
  },
  {
   "cell_type": "code",
   "execution_count": 303,
   "id": "e401d749",
   "metadata": {},
   "outputs": [
    {
     "name": "stdout",
     "output_type": "stream",
     "text": [
      "<class 'pandas.core.frame.DataFrame'>\n",
      "Int64Index: 144 entries, 0 to 143\n",
      "Data columns (total 2 columns):\n",
      " #   Column                                                                          Non-Null Count  Dtype  \n",
      "---  ------                                                                          --------------  -----  \n",
      " 0   Month                                                                           144 non-null    object \n",
      " 1   International airline passengers: monthly totals in thousands. Jan 49 ? Dec 60  144 non-null    float64\n",
      "dtypes: float64(1), object(1)\n",
      "memory usage: 3.4+ KB\n"
     ]
    }
   ],
   "source": [
    "df=df.dropna(how='any',axis=0)\n",
    "df.info()"
   ]
  },
  {
   "cell_type": "code",
   "execution_count": 304,
   "id": "d6d3dbb4",
   "metadata": {},
   "outputs": [],
   "source": [
    "df.columns=[\"Months\",\"Passengers\"]"
   ]
  },
  {
   "cell_type": "code",
   "execution_count": 305,
   "id": "dc6175f1",
   "metadata": {},
   "outputs": [
    {
     "data": {
      "text/html": [
       "<div>\n",
       "<style scoped>\n",
       "    .dataframe tbody tr th:only-of-type {\n",
       "        vertical-align: middle;\n",
       "    }\n",
       "\n",
       "    .dataframe tbody tr th {\n",
       "        vertical-align: top;\n",
       "    }\n",
       "\n",
       "    .dataframe thead th {\n",
       "        text-align: right;\n",
       "    }\n",
       "</style>\n",
       "<table border=\"1\" class=\"dataframe\">\n",
       "  <thead>\n",
       "    <tr style=\"text-align: right;\">\n",
       "      <th></th>\n",
       "      <th>Months</th>\n",
       "      <th>Passengers</th>\n",
       "    </tr>\n",
       "  </thead>\n",
       "  <tbody>\n",
       "    <tr>\n",
       "      <th>0</th>\n",
       "      <td>1949-01</td>\n",
       "      <td>112.0</td>\n",
       "    </tr>\n",
       "    <tr>\n",
       "      <th>1</th>\n",
       "      <td>1949-02</td>\n",
       "      <td>118.0</td>\n",
       "    </tr>\n",
       "    <tr>\n",
       "      <th>2</th>\n",
       "      <td>1949-03</td>\n",
       "      <td>132.0</td>\n",
       "    </tr>\n",
       "    <tr>\n",
       "      <th>3</th>\n",
       "      <td>1949-04</td>\n",
       "      <td>129.0</td>\n",
       "    </tr>\n",
       "    <tr>\n",
       "      <th>4</th>\n",
       "      <td>1949-05</td>\n",
       "      <td>121.0</td>\n",
       "    </tr>\n",
       "    <tr>\n",
       "      <th>...</th>\n",
       "      <td>...</td>\n",
       "      <td>...</td>\n",
       "    </tr>\n",
       "    <tr>\n",
       "      <th>139</th>\n",
       "      <td>1960-08</td>\n",
       "      <td>606.0</td>\n",
       "    </tr>\n",
       "    <tr>\n",
       "      <th>140</th>\n",
       "      <td>1960-09</td>\n",
       "      <td>508.0</td>\n",
       "    </tr>\n",
       "    <tr>\n",
       "      <th>141</th>\n",
       "      <td>1960-10</td>\n",
       "      <td>461.0</td>\n",
       "    </tr>\n",
       "    <tr>\n",
       "      <th>142</th>\n",
       "      <td>1960-11</td>\n",
       "      <td>390.0</td>\n",
       "    </tr>\n",
       "    <tr>\n",
       "      <th>143</th>\n",
       "      <td>1960-12</td>\n",
       "      <td>432.0</td>\n",
       "    </tr>\n",
       "  </tbody>\n",
       "</table>\n",
       "<p>144 rows × 2 columns</p>\n",
       "</div>"
      ],
      "text/plain": [
       "      Months  Passengers\n",
       "0    1949-01       112.0\n",
       "1    1949-02       118.0\n",
       "2    1949-03       132.0\n",
       "3    1949-04       129.0\n",
       "4    1949-05       121.0\n",
       "..       ...         ...\n",
       "139  1960-08       606.0\n",
       "140  1960-09       508.0\n",
       "141  1960-10       461.0\n",
       "142  1960-11       390.0\n",
       "143  1960-12       432.0\n",
       "\n",
       "[144 rows x 2 columns]"
      ]
     },
     "execution_count": 305,
     "metadata": {},
     "output_type": "execute_result"
    }
   ],
   "source": [
    "df"
   ]
  },
  {
   "cell_type": "code",
   "execution_count": 306,
   "id": "34b1fee2",
   "metadata": {},
   "outputs": [
    {
     "data": {
      "text/html": [
       "<div>\n",
       "<style scoped>\n",
       "    .dataframe tbody tr th:only-of-type {\n",
       "        vertical-align: middle;\n",
       "    }\n",
       "\n",
       "    .dataframe tbody tr th {\n",
       "        vertical-align: top;\n",
       "    }\n",
       "\n",
       "    .dataframe thead th {\n",
       "        text-align: right;\n",
       "    }\n",
       "</style>\n",
       "<table border=\"1\" class=\"dataframe\">\n",
       "  <thead>\n",
       "    <tr style=\"text-align: right;\">\n",
       "      <th></th>\n",
       "      <th>count</th>\n",
       "      <th>mean</th>\n",
       "      <th>std</th>\n",
       "      <th>min</th>\n",
       "      <th>25%</th>\n",
       "      <th>50%</th>\n",
       "      <th>75%</th>\n",
       "      <th>max</th>\n",
       "    </tr>\n",
       "  </thead>\n",
       "  <tbody>\n",
       "    <tr>\n",
       "      <th>Passengers</th>\n",
       "      <td>144.0</td>\n",
       "      <td>280.298611</td>\n",
       "      <td>119.966317</td>\n",
       "      <td>104.0</td>\n",
       "      <td>180.0</td>\n",
       "      <td>265.5</td>\n",
       "      <td>360.5</td>\n",
       "      <td>622.0</td>\n",
       "    </tr>\n",
       "  </tbody>\n",
       "</table>\n",
       "</div>"
      ],
      "text/plain": [
       "            count        mean         std    min    25%    50%    75%    max\n",
       "Passengers  144.0  280.298611  119.966317  104.0  180.0  265.5  360.5  622.0"
      ]
     },
     "execution_count": 306,
     "metadata": {},
     "output_type": "execute_result"
    }
   ],
   "source": [
    "df.describe().T"
   ]
  },
  {
   "cell_type": "code",
   "execution_count": 307,
   "id": "c16dfc43",
   "metadata": {},
   "outputs": [],
   "source": [
    "df[\"Months\"]=pd.to_datetime(df[\"Months\"])"
   ]
  },
  {
   "cell_type": "code",
   "execution_count": 308,
   "id": "e7b7d3a8",
   "metadata": {},
   "outputs": [
    {
     "data": {
      "text/html": [
       "<div>\n",
       "<style scoped>\n",
       "    .dataframe tbody tr th:only-of-type {\n",
       "        vertical-align: middle;\n",
       "    }\n",
       "\n",
       "    .dataframe tbody tr th {\n",
       "        vertical-align: top;\n",
       "    }\n",
       "\n",
       "    .dataframe thead th {\n",
       "        text-align: right;\n",
       "    }\n",
       "</style>\n",
       "<table border=\"1\" class=\"dataframe\">\n",
       "  <thead>\n",
       "    <tr style=\"text-align: right;\">\n",
       "      <th></th>\n",
       "      <th>Months</th>\n",
       "      <th>Passengers</th>\n",
       "    </tr>\n",
       "  </thead>\n",
       "  <tbody>\n",
       "    <tr>\n",
       "      <th>0</th>\n",
       "      <td>1949-01-01</td>\n",
       "      <td>112.0</td>\n",
       "    </tr>\n",
       "    <tr>\n",
       "      <th>1</th>\n",
       "      <td>1949-02-01</td>\n",
       "      <td>118.0</td>\n",
       "    </tr>\n",
       "    <tr>\n",
       "      <th>2</th>\n",
       "      <td>1949-03-01</td>\n",
       "      <td>132.0</td>\n",
       "    </tr>\n",
       "    <tr>\n",
       "      <th>3</th>\n",
       "      <td>1949-04-01</td>\n",
       "      <td>129.0</td>\n",
       "    </tr>\n",
       "    <tr>\n",
       "      <th>4</th>\n",
       "      <td>1949-05-01</td>\n",
       "      <td>121.0</td>\n",
       "    </tr>\n",
       "    <tr>\n",
       "      <th>...</th>\n",
       "      <td>...</td>\n",
       "      <td>...</td>\n",
       "    </tr>\n",
       "    <tr>\n",
       "      <th>139</th>\n",
       "      <td>1960-08-01</td>\n",
       "      <td>606.0</td>\n",
       "    </tr>\n",
       "    <tr>\n",
       "      <th>140</th>\n",
       "      <td>1960-09-01</td>\n",
       "      <td>508.0</td>\n",
       "    </tr>\n",
       "    <tr>\n",
       "      <th>141</th>\n",
       "      <td>1960-10-01</td>\n",
       "      <td>461.0</td>\n",
       "    </tr>\n",
       "    <tr>\n",
       "      <th>142</th>\n",
       "      <td>1960-11-01</td>\n",
       "      <td>390.0</td>\n",
       "    </tr>\n",
       "    <tr>\n",
       "      <th>143</th>\n",
       "      <td>1960-12-01</td>\n",
       "      <td>432.0</td>\n",
       "    </tr>\n",
       "  </tbody>\n",
       "</table>\n",
       "<p>144 rows × 2 columns</p>\n",
       "</div>"
      ],
      "text/plain": [
       "        Months  Passengers\n",
       "0   1949-01-01       112.0\n",
       "1   1949-02-01       118.0\n",
       "2   1949-03-01       132.0\n",
       "3   1949-04-01       129.0\n",
       "4   1949-05-01       121.0\n",
       "..         ...         ...\n",
       "139 1960-08-01       606.0\n",
       "140 1960-09-01       508.0\n",
       "141 1960-10-01       461.0\n",
       "142 1960-11-01       390.0\n",
       "143 1960-12-01       432.0\n",
       "\n",
       "[144 rows x 2 columns]"
      ]
     },
     "execution_count": 308,
     "metadata": {},
     "output_type": "execute_result"
    }
   ],
   "source": [
    "df\n"
   ]
  },
  {
   "cell_type": "code",
   "execution_count": 309,
   "id": "b3ebaef1",
   "metadata": {},
   "outputs": [],
   "source": [
    "df.index=df[\"Months\"]"
   ]
  },
  {
   "cell_type": "code",
   "execution_count": 310,
   "id": "5f99b5f5",
   "metadata": {},
   "outputs": [],
   "source": [
    "df.drop(\"Months\",axis=1,inplace=True)"
   ]
  },
  {
   "cell_type": "code",
   "execution_count": 311,
   "id": "377b1dc4",
   "metadata": {},
   "outputs": [
    {
     "data": {
      "text/html": [
       "<div>\n",
       "<style scoped>\n",
       "    .dataframe tbody tr th:only-of-type {\n",
       "        vertical-align: middle;\n",
       "    }\n",
       "\n",
       "    .dataframe tbody tr th {\n",
       "        vertical-align: top;\n",
       "    }\n",
       "\n",
       "    .dataframe thead th {\n",
       "        text-align: right;\n",
       "    }\n",
       "</style>\n",
       "<table border=\"1\" class=\"dataframe\">\n",
       "  <thead>\n",
       "    <tr style=\"text-align: right;\">\n",
       "      <th></th>\n",
       "      <th>Passengers</th>\n",
       "    </tr>\n",
       "    <tr>\n",
       "      <th>Months</th>\n",
       "      <th></th>\n",
       "    </tr>\n",
       "  </thead>\n",
       "  <tbody>\n",
       "    <tr>\n",
       "      <th>1949-01-01</th>\n",
       "      <td>112.0</td>\n",
       "    </tr>\n",
       "    <tr>\n",
       "      <th>1949-02-01</th>\n",
       "      <td>118.0</td>\n",
       "    </tr>\n",
       "    <tr>\n",
       "      <th>1949-03-01</th>\n",
       "      <td>132.0</td>\n",
       "    </tr>\n",
       "    <tr>\n",
       "      <th>1949-04-01</th>\n",
       "      <td>129.0</td>\n",
       "    </tr>\n",
       "    <tr>\n",
       "      <th>1949-05-01</th>\n",
       "      <td>121.0</td>\n",
       "    </tr>\n",
       "    <tr>\n",
       "      <th>...</th>\n",
       "      <td>...</td>\n",
       "    </tr>\n",
       "    <tr>\n",
       "      <th>1960-08-01</th>\n",
       "      <td>606.0</td>\n",
       "    </tr>\n",
       "    <tr>\n",
       "      <th>1960-09-01</th>\n",
       "      <td>508.0</td>\n",
       "    </tr>\n",
       "    <tr>\n",
       "      <th>1960-10-01</th>\n",
       "      <td>461.0</td>\n",
       "    </tr>\n",
       "    <tr>\n",
       "      <th>1960-11-01</th>\n",
       "      <td>390.0</td>\n",
       "    </tr>\n",
       "    <tr>\n",
       "      <th>1960-12-01</th>\n",
       "      <td>432.0</td>\n",
       "    </tr>\n",
       "  </tbody>\n",
       "</table>\n",
       "<p>144 rows × 1 columns</p>\n",
       "</div>"
      ],
      "text/plain": [
       "            Passengers\n",
       "Months                \n",
       "1949-01-01       112.0\n",
       "1949-02-01       118.0\n",
       "1949-03-01       132.0\n",
       "1949-04-01       129.0\n",
       "1949-05-01       121.0\n",
       "...                ...\n",
       "1960-08-01       606.0\n",
       "1960-09-01       508.0\n",
       "1960-10-01       461.0\n",
       "1960-11-01       390.0\n",
       "1960-12-01       432.0\n",
       "\n",
       "[144 rows x 1 columns]"
      ]
     },
     "execution_count": 311,
     "metadata": {},
     "output_type": "execute_result"
    }
   ],
   "source": [
    "df"
   ]
  },
  {
   "cell_type": "code",
   "execution_count": 312,
   "id": "60ee861c",
   "metadata": {},
   "outputs": [
    {
     "data": {
      "text/plain": [
       "<AxesSubplot:xlabel='Months'>"
      ]
     },
     "execution_count": 312,
     "metadata": {},
     "output_type": "execute_result"
    },
    {
     "data": {
      "image/png": "[encoded data removed]",
      "text/plain": [
       "<Figure size 432x288 with 1 Axes>"
      ]
     },
     "metadata": {
      "needs_background": "light"
     },
     "output_type": "display_data"
    }
   ],
   "source": [
    "df.plot()"
   ]
  },
  {
   "cell_type": "code",
   "execution_count": 313,
   "id": "cc6755c8",
   "metadata": {},
   "outputs": [],
   "source": [
    "data=df[\"Passengers\"].values"
   ]
  },
  {
   "cell_type": "code",
   "execution_count": 314,
   "id": "a5756772",
   "metadata": {},
   "outputs": [
    {
     "data": {
      "text/plain": [
       "array([112., 118., 132., 129., 121., 135., 148., 148., 136., 119., 104.,\n",
       "       118., 115., 126., 141., 135., 125., 149., 170., 170., 158., 133.,\n",
       "       114., 140., 145., 150., 178., 163., 172., 178., 199., 199., 184.,\n",
       "       162., 146., 166., 171., 180., 193., 181., 183., 218., 230., 242.,\n",
       "       209., 191., 172., 194., 196., 196., 236., 235., 229., 243., 264.,\n",
       "       272., 237., 211., 180., 201., 204., 188., 235., 227., 234., 264.,\n",
       "       302., 293., 259., 229., 203., 229., 242., 233., 267., 269., 270.,\n",
       "       315., 364., 347., 312., 274., 237., 278., 284., 277., 317., 313.,\n",
       "       318., 374., 413., 405., 355., 306., 271., 306., 315., 301., 356.,\n",
       "       348., 355., 422., 465., 467., 404., 347., 305., 336., 340., 318.,\n",
       "       362., 348., 363., 435., 491., 505., 404., 359., 310., 337., 360.,\n",
       "       342., 406., 396., 420., 472., 548., 559., 463., 407., 362., 405.,\n",
       "       417., 391., 419., 461., 472., 535., 622., 606., 508., 461., 390.,\n",
       "       432.])"
      ]
     },
     "execution_count": 314,
     "metadata": {},
     "output_type": "execute_result"
    }
   ],
   "source": [
    "data"
   ]
  },
  {
   "cell_type": "code",
   "execution_count": 315,
   "id": "7abaa867",
   "metadata": {},
   "outputs": [],
   "source": [
    "data=data.astype(\"float32\")"
   ]
  },
  {
   "cell_type": "code",
   "execution_count": 316,
   "id": "95cf2388",
   "metadata": {},
   "outputs": [],
   "source": [
    "data=data.reshape(-1,1)"
   ]
  },
  {
   "cell_type": "code",
   "execution_count": 317,
   "id": "9baaa23e",
   "metadata": {},
   "outputs": [],
   "source": [
    "def split_data(dataframee,test_size):\n",
    "    pos=int(round(len(dataframee)*(1.0-test_size)))\n",
    "    train=dataframee[:pos]\n",
    "    test=dataframee[pos:]\n",
    "    return train,test,pos"
   ]
  },
  {
   "cell_type": "code",
   "execution_count": 352,
   "id": "ffa88d87",
   "metadata": {},
   "outputs": [],
   "source": [
    "train, test, pos=split_data(data,0.3)"
   ]
  },
  {
   "cell_type": "code",
   "execution_count": 353,
   "id": "7a31901e",
   "metadata": {},
   "outputs": [
    {
     "name": "stdout",
     "output_type": "stream",
     "text": [
      "(101, 1) (43, 1)\n"
     ]
    }
   ],
   "source": [
    "print(train.shape,test.shape)"
   ]
  },
  {
   "cell_type": "code",
   "execution_count": 354,
   "id": "2034d42b",
   "metadata": {},
   "outputs": [],
   "source": [
    "scaler_train=MinMaxScaler(feature_range=(0,1))\n",
    "train=scaler_train.fit_transform(train)\n",
    "scaler_test=MinMaxScaler(feature_range=(0,1))\n",
    "test=scaler_test.fit_transform(test)"
   ]
  },
  {
   "cell_type": "code",
   "execution_count": 355,
   "id": "63c07b28",
   "metadata": {},
   "outputs": [],
   "source": [
    "def create_features(data, lookback):\n",
    "    X, Y = [], []\n",
    "    for i in range(lookback, len(data)):\n",
    "        X.append(data[i - lookback:i, 0])\n",
    "        Y.append(data[i, 0])\n",
    "        \n",
    "    return np.array(X), np.array(Y)"
   ]
  },
  {
   "cell_type": "code",
   "execution_count": 356,
   "id": "6395b419",
   "metadata": {},
   "outputs": [],
   "source": [
    "lookback=1"
   ]
  },
  {
   "cell_type": "code",
   "execution_count": 357,
   "id": "b6e5a0da",
   "metadata": {},
   "outputs": [],
   "source": [
    "X_train,y_train=create_features(train,lookback)\n",
    "X_test,y_test=create_features(test,lookback)\n"
   ]
  },
  {
   "cell_type": "code",
   "execution_count": 358,
   "id": "b4fde12c",
   "metadata": {},
   "outputs": [
    {
     "name": "stdout",
     "output_type": "stream",
     "text": [
      "(100, 1) (100,) (42, 1) (42,)\n"
     ]
    }
   ],
   "source": [
    "print(X_train.shape,y_train.shape,X_test.shape,y_test.shape)"
   ]
  },
  {
   "cell_type": "code",
   "execution_count": 359,
   "id": "c0a1861a",
   "metadata": {},
   "outputs": [
    {
     "name": "stdout",
     "output_type": "stream",
     "text": [
      "(100, 1) (100,) (42, 1) (42,)\n"
     ]
    }
   ],
   "source": [
    "print(X_train.shape,y_train.shape,X_test.shape,y_test.shape)"
   ]
  },
  {
   "cell_type": "code",
   "execution_count": 385,
   "id": "ddb8268a",
   "metadata": {},
   "outputs": [
    {
     "name": "stdout",
     "output_type": "stream",
     "text": [
      "Model: \"sequential_27\"\n",
      "_________________________________________________________________\n",
      " Layer (type)                Output Shape              Param #   \n",
      "=================================================================\n",
      " simple_rnn_49 (SimpleRNN)   (None, 64)                4224      \n",
      "                                                                 \n",
      " dropout_44 (Dropout)        (None, 64)                0         \n",
      "                                                                 \n",
      " dense_22 (Dense)            (None, 1)                 65        \n",
      "                                                                 \n",
      "=================================================================\n",
      "Total params: 4,289\n",
      "Trainable params: 4,289\n",
      "Non-trainable params: 0\n",
      "_________________________________________________________________\n"
     ]
    }
   ],
   "source": [
    "\n",
    "model = Sequential()\n",
    "model.add(SimpleRNN(units=64, activation=\"relu\",input_shape=(X_train.shape[1], lookback)))\n",
    "model.add(Dropout(0.2))\n",
    "model.add(Dense(units=1))\n",
    "model.compile(optimizer='adam', loss='mean_squared_error')\n",
    "model.summary()\n",
    "\n"
   ]
  },
  {
   "cell_type": "code",
   "execution_count": 386,
   "id": "85fd5594",
   "metadata": {},
   "outputs": [],
   "source": [
    "callbacks=[EarlyStopping(monitor=\"val_loss\",patience=4,verbose=1,mode=\"min\"),\n",
    "           ModelCheckpoint(filepath=\"mymodel.h5\",save_weights_only=False,monitor='val_loss',mode='min',save_best_only=True)]\n",
    "           "
   ]
  },
  {
   "cell_type": "code",
   "execution_count": 387,
   "id": "c4c28397",
   "metadata": {},
   "outputs": [
    {
     "name": "stdout",
     "output_type": "stream",
     "text": [
      "Epoch 1/100\n",
      "10/10 [==============================] - 1s 20ms/step - loss: 0.2293 - val_loss: 0.1751\n",
      "Epoch 2/100\n",
      "10/10 [==============================] - 0s 4ms/step - loss: 0.1617 - val_loss: 0.1158\n",
      "Epoch 3/100\n",
      "10/10 [==============================] - 0s 4ms/step - loss: 0.1032 - val_loss: 0.0755\n",
      "Epoch 4/100\n",
      "10/10 [==============================] - 0s 4ms/step - loss: 0.0640 - val_loss: 0.0514\n",
      "Epoch 5/100\n",
      "10/10 [==============================] - 0s 4ms/step - loss: 0.0410 - val_loss: 0.0388\n",
      "Epoch 6/100\n",
      "10/10 [==============================] - 0s 4ms/step - loss: 0.0372 - val_loss: 0.0333\n",
      "Epoch 7/100\n",
      "10/10 [==============================] - 0s 4ms/step - loss: 0.0249 - val_loss: 0.0315\n",
      "Epoch 8/100\n",
      "10/10 [==============================] - 0s 4ms/step - loss: 0.0222 - val_loss: 0.0307\n",
      "Epoch 9/100\n",
      "10/10 [==============================] - 0s 4ms/step - loss: 0.0260 - val_loss: 0.0300\n",
      "Epoch 10/100\n",
      "10/10 [==============================] - 0s 4ms/step - loss: 0.0243 - val_loss: 0.0290\n",
      "Epoch 11/100\n",
      "10/10 [==============================] - 0s 4ms/step - loss: 0.0243 - val_loss: 0.0279\n",
      "Epoch 12/100\n",
      "10/10 [==============================] - 0s 4ms/step - loss: 0.0208 - val_loss: 0.0271\n",
      "Epoch 13/100\n",
      "10/10 [==============================] - 0s 4ms/step - loss: 0.0167 - val_loss: 0.0264\n",
      "Epoch 14/100\n",
      "10/10 [==============================] - 0s 4ms/step - loss: 0.0172 - val_loss: 0.0257\n",
      "Epoch 15/100\n",
      "10/10 [==============================] - 0s 4ms/step - loss: 0.0166 - val_loss: 0.0250\n",
      "Epoch 16/100\n",
      "10/10 [==============================] - 0s 4ms/step - loss: 0.0185 - val_loss: 0.0245\n",
      "Epoch 17/100\n",
      "10/10 [==============================] - 0s 4ms/step - loss: 0.0145 - val_loss: 0.0240\n",
      "Epoch 18/100\n",
      "10/10 [==============================] - 0s 4ms/step - loss: 0.0146 - val_loss: 0.0237\n",
      "Epoch 19/100\n",
      "10/10 [==============================] - 0s 4ms/step - loss: 0.0151 - val_loss: 0.0234\n",
      "Epoch 20/100\n",
      "10/10 [==============================] - 0s 4ms/step - loss: 0.0129 - val_loss: 0.0229\n",
      "Epoch 21/100\n",
      "10/10 [==============================] - 0s 4ms/step - loss: 0.0131 - val_loss: 0.0227\n",
      "Epoch 22/100\n",
      "10/10 [==============================] - 0s 4ms/step - loss: 0.0117 - val_loss: 0.0224\n",
      "Epoch 23/100\n",
      "10/10 [==============================] - 0s 4ms/step - loss: 0.0110 - val_loss: 0.0221\n",
      "Epoch 24/100\n",
      "10/10 [==============================] - 0s 4ms/step - loss: 0.0095 - val_loss: 0.0220\n",
      "Epoch 25/100\n",
      "10/10 [==============================] - 0s 4ms/step - loss: 0.0122 - val_loss: 0.0219\n",
      "Epoch 26/100\n",
      "10/10 [==============================] - 0s 3ms/step - loss: 0.0114 - val_loss: 0.0219\n",
      "Epoch 27/100\n",
      "10/10 [==============================] - 0s 4ms/step - loss: 0.0086 - val_loss: 0.0218\n",
      "Epoch 28/100\n",
      "10/10 [==============================] - 0s 4ms/step - loss: 0.0113 - val_loss: 0.0217\n",
      "Epoch 29/100\n",
      "10/10 [==============================] - 0s 4ms/step - loss: 0.0089 - val_loss: 0.0217\n",
      "Epoch 30/100\n",
      "10/10 [==============================] - 0s 3ms/step - loss: 0.0113 - val_loss: 0.0218\n",
      "Epoch 31/100\n",
      "10/10 [==============================] - 0s 3ms/step - loss: 0.0099 - val_loss: 0.0220\n",
      "Epoch 32/100\n",
      "10/10 [==============================] - 0s 3ms/step - loss: 0.0092 - val_loss: 0.0220\n",
      "Epoch 33/100\n",
      "10/10 [==============================] - 0s 3ms/step - loss: 0.0072 - val_loss: 0.0219\n",
      "Epoch 33: early stopping\n"
     ]
    }
   ],
   "source": [
    "history = model.fit(x=X_train,\n",
    "                    y=y_train,\n",
    "                    batch_size=10,\n",
    "                    epochs=100,\n",
    "                    callbacks=callbacks,\n",
    "                    verbose=1,\n",
    "                    shuffle=True,\n",
    "                    validation_data=(X_test,y_test))"
   ]
  },
  {
   "cell_type": "code",
   "execution_count": 388,
   "id": "7da073d0",
   "metadata": {},
   "outputs": [
    {
     "name": "stdout",
     "output_type": "stream",
     "text": [
      "5/5 [==============================] - 0s 1ms/step - loss: 0.0219\n",
      "test loss: 2.2%\n"
     ]
    }
   ],
   "source": [
    "loss=model.evaluate(X_test,y_test,batch_size=10)\n",
    "print(\"test loss: %.1f%%\"%(100*loss))"
   ]
  },
  {
   "cell_type": "code",
   "execution_count": 389,
   "id": "9c1abe7d",
   "metadata": {},
   "outputs": [
    {
     "name": "stdout",
     "output_type": "stream",
     "text": [
      "4/4 [==============================] - 0s 1000us/step\n",
      "2/2 [==============================] - 0s 999us/step\n"
     ]
    }
   ],
   "source": [
    "train_predict=model.predict(X_train)\n",
    "test_predict=model.predict(X_test)"
   ]
  },
  {
   "cell_type": "code",
   "execution_count": 390,
   "id": "843a809b",
   "metadata": {},
   "outputs": [],
   "source": [
    "train_predict = train_predict.reshape(-1, 1)\n",
    "test_predict = test_predict.reshape(-1, 1)\n"
   ]
  },
  {
   "cell_type": "code",
   "execution_count": 391,
   "id": "b1b6edd4",
   "metadata": {},
   "outputs": [],
   "source": [
    "train_predict=scaler_train.inverse_transform(train_predict)\n",
    "test_predict=scaler_test.inverse_transform(test_predict)"
   ]
  },
  {
   "cell_type": "code",
   "execution_count": 392,
   "id": "b8cf4c24",
   "metadata": {},
   "outputs": [
    {
     "data": {
      "text/plain": [
       "228.6577"
      ]
     },
     "execution_count": 392,
     "metadata": {},
     "output_type": "execute_result"
    }
   ],
   "source": [
    "np.sqrt(mean_squared_error(y_train,train_predict))"
   ]
  },
  {
   "cell_type": "code",
   "execution_count": 393,
   "id": "1ab3036c",
   "metadata": {},
   "outputs": [
    {
     "data": {
      "text/plain": [
       "428.84476"
      ]
     },
     "execution_count": 393,
     "metadata": {},
     "output_type": "execute_result"
    }
   ],
   "source": [
    "np.sqrt(mean_squared_error(y_test,test_predict))"
   ]
  },
  {
   "cell_type": "code",
   "execution_count": 394,
   "id": "715a6f2c",
   "metadata": {},
   "outputs": [],
   "source": [
    "train_predicted_df=df[lookback:pos]\n",
    "train_predicted_df[\"train_Predicted\"]=train_predict\n",
    "\n",
    "test_predict_df=df[lookback+pos:]\n",
    "test_predict_df[\"test_Predicted\"]=test_predict"
   ]
  },
  {
   "cell_type": "code",
   "execution_count": 395,
   "id": "292952e1",
   "metadata": {},
   "outputs": [
    {
     "data": {
      "text/html": [
       "<div>\n",
       "<style scoped>\n",
       "    .dataframe tbody tr th:only-of-type {\n",
       "        vertical-align: middle;\n",
       "    }\n",
       "\n",
       "    .dataframe tbody tr th {\n",
       "        vertical-align: top;\n",
       "    }\n",
       "\n",
       "    .dataframe thead th {\n",
       "        text-align: right;\n",
       "    }\n",
       "</style>\n",
       "<table border=\"1\" class=\"dataframe\">\n",
       "  <thead>\n",
       "    <tr style=\"text-align: right;\">\n",
       "      <th></th>\n",
       "      <th>Passengers</th>\n",
       "      <th>train_Predicted</th>\n",
       "    </tr>\n",
       "    <tr>\n",
       "      <th>Months</th>\n",
       "      <th></th>\n",
       "      <th></th>\n",
       "    </tr>\n",
       "  </thead>\n",
       "  <tbody>\n",
       "    <tr>\n",
       "      <th>1949-02-01</th>\n",
       "      <td>118.0</td>\n",
       "      <td>126.202156</td>\n",
       "    </tr>\n",
       "    <tr>\n",
       "      <th>1949-03-01</th>\n",
       "      <td>132.0</td>\n",
       "      <td>131.272171</td>\n",
       "    </tr>\n",
       "    <tr>\n",
       "      <th>1949-04-01</th>\n",
       "      <td>129.0</td>\n",
       "      <td>143.373413</td>\n",
       "    </tr>\n",
       "    <tr>\n",
       "      <th>1949-05-01</th>\n",
       "      <td>121.0</td>\n",
       "      <td>140.752777</td>\n",
       "    </tr>\n",
       "    <tr>\n",
       "      <th>1949-06-01</th>\n",
       "      <td>135.0</td>\n",
       "      <td>133.807175</td>\n",
       "    </tr>\n",
       "    <tr>\n",
       "      <th>...</th>\n",
       "      <td>...</td>\n",
       "      <td>...</td>\n",
       "    </tr>\n",
       "    <tr>\n",
       "      <th>1957-01-01</th>\n",
       "      <td>315.0</td>\n",
       "      <td>295.710052</td>\n",
       "    </tr>\n",
       "    <tr>\n",
       "      <th>1957-02-01</th>\n",
       "      <td>301.0</td>\n",
       "      <td>302.811035</td>\n",
       "    </tr>\n",
       "    <tr>\n",
       "      <th>1957-03-01</th>\n",
       "      <td>356.0</td>\n",
       "      <td>291.765045</td>\n",
       "    </tr>\n",
       "    <tr>\n",
       "      <th>1957-04-01</th>\n",
       "      <td>348.0</td>\n",
       "      <td>334.441010</td>\n",
       "    </tr>\n",
       "    <tr>\n",
       "      <th>1957-05-01</th>\n",
       "      <td>355.0</td>\n",
       "      <td>328.485687</td>\n",
       "    </tr>\n",
       "  </tbody>\n",
       "</table>\n",
       "<p>100 rows × 2 columns</p>\n",
       "</div>"
      ],
      "text/plain": [
       "            Passengers  train_Predicted\n",
       "Months                                 \n",
       "1949-02-01       118.0       126.202156\n",
       "1949-03-01       132.0       131.272171\n",
       "1949-04-01       129.0       143.373413\n",
       "1949-05-01       121.0       140.752777\n",
       "1949-06-01       135.0       133.807175\n",
       "...                ...              ...\n",
       "1957-01-01       315.0       295.710052\n",
       "1957-02-01       301.0       302.811035\n",
       "1957-03-01       356.0       291.765045\n",
       "1957-04-01       348.0       334.441010\n",
       "1957-05-01       355.0       328.485687\n",
       "\n",
       "[100 rows x 2 columns]"
      ]
     },
     "execution_count": 395,
     "metadata": {},
     "output_type": "execute_result"
    }
   ],
   "source": [
    "train_predicted_df"
   ]
  },
  {
   "cell_type": "code",
   "execution_count": 396,
   "id": "2b0fd3aa",
   "metadata": {},
   "outputs": [
    {
     "data": {
      "text/html": [
       "<div>\n",
       "<style scoped>\n",
       "    .dataframe tbody tr th:only-of-type {\n",
       "        vertical-align: middle;\n",
       "    }\n",
       "\n",
       "    .dataframe tbody tr th {\n",
       "        vertical-align: top;\n",
       "    }\n",
       "\n",
       "    .dataframe thead th {\n",
       "        text-align: right;\n",
       "    }\n",
       "</style>\n",
       "<table border=\"1\" class=\"dataframe\">\n",
       "  <thead>\n",
       "    <tr style=\"text-align: right;\">\n",
       "      <th></th>\n",
       "      <th>Passengers</th>\n",
       "      <th>test_Predicted</th>\n",
       "    </tr>\n",
       "    <tr>\n",
       "      <th>Months</th>\n",
       "      <th></th>\n",
       "      <th></th>\n",
       "    </tr>\n",
       "  </thead>\n",
       "  <tbody>\n",
       "    <tr>\n",
       "      <th>1957-07-01</th>\n",
       "      <td>465.0</td>\n",
       "      <td>426.374878</td>\n",
       "    </tr>\n",
       "    <tr>\n",
       "      <th>1957-08-01</th>\n",
       "      <td>467.0</td>\n",
       "      <td>464.409149</td>\n",
       "    </tr>\n",
       "    <tr>\n",
       "      <th>1957-09-01</th>\n",
       "      <td>404.0</td>\n",
       "      <td>465.987152</td>\n",
       "    </tr>\n",
       "    <tr>\n",
       "      <th>1957-10-01</th>\n",
       "      <td>347.0</td>\n",
       "      <td>409.909943</td>\n",
       "    </tr>\n",
       "    <tr>\n",
       "      <th>1957-11-01</th>\n",
       "      <td>305.0</td>\n",
       "      <td>357.532440</td>\n",
       "    </tr>\n",
       "    <tr>\n",
       "      <th>1957-12-01</th>\n",
       "      <td>336.0</td>\n",
       "      <td>321.365112</td>\n",
       "    </tr>\n",
       "    <tr>\n",
       "      <th>1958-01-01</th>\n",
       "      <td>340.0</td>\n",
       "      <td>347.444946</td>\n",
       "    </tr>\n",
       "    <tr>\n",
       "      <th>1958-02-01</th>\n",
       "      <td>318.0</td>\n",
       "      <td>351.113129</td>\n",
       "    </tr>\n",
       "    <tr>\n",
       "      <th>1958-03-01</th>\n",
       "      <td>362.0</td>\n",
       "      <td>331.826996</td>\n",
       "    </tr>\n",
       "    <tr>\n",
       "      <th>1958-04-01</th>\n",
       "      <td>348.0</td>\n",
       "      <td>371.288086</td>\n",
       "    </tr>\n",
       "    <tr>\n",
       "      <th>1958-05-01</th>\n",
       "      <td>363.0</td>\n",
       "      <td>358.449463</td>\n",
       "    </tr>\n",
       "    <tr>\n",
       "      <th>1958-06-01</th>\n",
       "      <td>435.0</td>\n",
       "      <td>372.205109</td>\n",
       "    </tr>\n",
       "    <tr>\n",
       "      <th>1958-07-01</th>\n",
       "      <td>491.0</td>\n",
       "      <td>438.215881</td>\n",
       "    </tr>\n",
       "    <tr>\n",
       "      <th>1958-08-01</th>\n",
       "      <td>505.0</td>\n",
       "      <td>484.923126</td>\n",
       "    </tr>\n",
       "    <tr>\n",
       "      <th>1958-09-01</th>\n",
       "      <td>404.0</td>\n",
       "      <td>495.969147</td>\n",
       "    </tr>\n",
       "    <tr>\n",
       "      <th>1958-10-01</th>\n",
       "      <td>359.0</td>\n",
       "      <td>409.909943</td>\n",
       "    </tr>\n",
       "    <tr>\n",
       "      <th>1958-11-01</th>\n",
       "      <td>310.0</td>\n",
       "      <td>368.536957</td>\n",
       "    </tr>\n",
       "    <tr>\n",
       "      <th>1958-12-01</th>\n",
       "      <td>337.0</td>\n",
       "      <td>325.066956</td>\n",
       "    </tr>\n",
       "    <tr>\n",
       "      <th>1959-01-01</th>\n",
       "      <td>360.0</td>\n",
       "      <td>348.362000</td>\n",
       "    </tr>\n",
       "    <tr>\n",
       "      <th>1959-02-01</th>\n",
       "      <td>342.0</td>\n",
       "      <td>369.453979</td>\n",
       "    </tr>\n",
       "    <tr>\n",
       "      <th>1959-03-01</th>\n",
       "      <td>406.0</td>\n",
       "      <td>352.947174</td>\n",
       "    </tr>\n",
       "    <tr>\n",
       "      <th>1959-04-01</th>\n",
       "      <td>396.0</td>\n",
       "      <td>411.750793</td>\n",
       "    </tr>\n",
       "    <tr>\n",
       "      <th>1959-05-01</th>\n",
       "      <td>420.0</td>\n",
       "      <td>402.546478</td>\n",
       "    </tr>\n",
       "    <tr>\n",
       "      <th>1959-06-01</th>\n",
       "      <td>472.0</td>\n",
       "      <td>424.553162</td>\n",
       "    </tr>\n",
       "    <tr>\n",
       "      <th>1959-07-01</th>\n",
       "      <td>548.0</td>\n",
       "      <td>469.932190</td>\n",
       "    </tr>\n",
       "    <tr>\n",
       "      <th>1959-08-01</th>\n",
       "      <td>559.0</td>\n",
       "      <td>529.779297</td>\n",
       "    </tr>\n",
       "    <tr>\n",
       "      <th>1959-09-01</th>\n",
       "      <td>463.0</td>\n",
       "      <td>538.075073</td>\n",
       "    </tr>\n",
       "    <tr>\n",
       "      <th>1959-10-01</th>\n",
       "      <td>407.0</td>\n",
       "      <td>462.831177</td>\n",
       "    </tr>\n",
       "    <tr>\n",
       "      <th>1959-11-01</th>\n",
       "      <td>362.0</td>\n",
       "      <td>412.671234</td>\n",
       "    </tr>\n",
       "    <tr>\n",
       "      <th>1959-12-01</th>\n",
       "      <td>405.0</td>\n",
       "      <td>371.288086</td>\n",
       "    </tr>\n",
       "    <tr>\n",
       "      <th>1960-01-01</th>\n",
       "      <td>417.0</td>\n",
       "      <td>410.830383</td>\n",
       "    </tr>\n",
       "    <tr>\n",
       "      <th>1960-02-01</th>\n",
       "      <td>391.0</td>\n",
       "      <td>421.820648</td>\n",
       "    </tr>\n",
       "    <tr>\n",
       "      <th>1960-03-01</th>\n",
       "      <td>419.0</td>\n",
       "      <td>397.944305</td>\n",
       "    </tr>\n",
       "    <tr>\n",
       "      <th>1960-04-01</th>\n",
       "      <td>461.0</td>\n",
       "      <td>423.642365</td>\n",
       "    </tr>\n",
       "    <tr>\n",
       "      <th>1960-05-01</th>\n",
       "      <td>472.0</td>\n",
       "      <td>461.203339</td>\n",
       "    </tr>\n",
       "    <tr>\n",
       "      <th>1960-06-01</th>\n",
       "      <td>535.0</td>\n",
       "      <td>469.932190</td>\n",
       "    </tr>\n",
       "    <tr>\n",
       "      <th>1960-07-01</th>\n",
       "      <td>622.0</td>\n",
       "      <td>519.639099</td>\n",
       "    </tr>\n",
       "    <tr>\n",
       "      <th>1960-08-01</th>\n",
       "      <td>606.0</td>\n",
       "      <td>583.889404</td>\n",
       "    </tr>\n",
       "    <tr>\n",
       "      <th>1960-09-01</th>\n",
       "      <td>508.0</td>\n",
       "      <td>572.404724</td>\n",
       "    </tr>\n",
       "    <tr>\n",
       "      <th>1960-10-01</th>\n",
       "      <td>461.0</td>\n",
       "      <td>498.336121</td>\n",
       "    </tr>\n",
       "    <tr>\n",
       "      <th>1960-11-01</th>\n",
       "      <td>390.0</td>\n",
       "      <td>461.203339</td>\n",
       "    </tr>\n",
       "    <tr>\n",
       "      <th>1960-12-01</th>\n",
       "      <td>432.0</td>\n",
       "      <td>397.023926</td>\n",
       "    </tr>\n",
       "  </tbody>\n",
       "</table>\n",
       "</div>"
      ],
      "text/plain": [
       "            Passengers  test_Predicted\n",
       "Months                                \n",
       "1957-07-01       465.0      426.374878\n",
       "1957-08-01       467.0      464.409149\n",
       "1957-09-01       404.0      465.987152\n",
       "1957-10-01       347.0      409.909943\n",
       "1957-11-01       305.0      357.532440\n",
       "1957-12-01       336.0      321.365112\n",
       "1958-01-01       340.0      347.444946\n",
       "1958-02-01       318.0      351.113129\n",
       "1958-03-01       362.0      331.826996\n",
       "1958-04-01       348.0      371.288086\n",
       "1958-05-01       363.0      358.449463\n",
       "1958-06-01       435.0      372.205109\n",
       "1958-07-01       491.0      438.215881\n",
       "1958-08-01       505.0      484.923126\n",
       "1958-09-01       404.0      495.969147\n",
       "1958-10-01       359.0      409.909943\n",
       "1958-11-01       310.0      368.536957\n",
       "1958-12-01       337.0      325.066956\n",
       "1959-01-01       360.0      348.362000\n",
       "1959-02-01       342.0      369.453979\n",
       "1959-03-01       406.0      352.947174\n",
       "1959-04-01       396.0      411.750793\n",
       "1959-05-01       420.0      402.546478\n",
       "1959-06-01       472.0      424.553162\n",
       "1959-07-01       548.0      469.932190\n",
       "1959-08-01       559.0      529.779297\n",
       "1959-09-01       463.0      538.075073\n",
       "1959-10-01       407.0      462.831177\n",
       "1959-11-01       362.0      412.671234\n",
       "1959-12-01       405.0      371.288086\n",
       "1960-01-01       417.0      410.830383\n",
       "1960-02-01       391.0      421.820648\n",
       "1960-03-01       419.0      397.944305\n",
       "1960-04-01       461.0      423.642365\n",
       "1960-05-01       472.0      461.203339\n",
       "1960-06-01       535.0      469.932190\n",
       "1960-07-01       622.0      519.639099\n",
       "1960-08-01       606.0      583.889404\n",
       "1960-09-01       508.0      572.404724\n",
       "1960-10-01       461.0      498.336121\n",
       "1960-11-01       390.0      461.203339\n",
       "1960-12-01       432.0      397.023926"
      ]
     },
     "execution_count": 396,
     "metadata": {},
     "output_type": "execute_result"
    }
   ],
   "source": [
    "test_predict_df"
   ]
  },
  {
   "cell_type": "code",
   "execution_count": 397,
   "id": "bed51e51",
   "metadata": {},
   "outputs": [
    {
     "data": {
      "text/plain": [
       "<matplotlib.legend.Legend at 0x248ded61730>"
      ]
     },
     "execution_count": 397,
     "metadata": {},
     "output_type": "execute_result"
    },
    {
     "data": {
      "image/png": "[encoded data removed]",
      "text/plain": [
       "<Figure size 1440x432 with 1 Axes>"
      ]
     },
     "metadata": {
      "needs_background": "light"
     },
     "output_type": "display_data"
    }
   ],
   "source": [
    "plt.figure(figsize=(20,6))\n",
    "plt.title('Model')\n",
    "plt.xlabel('Months', fontsize=18)\n",
    "plt.ylabel('Passengers', fontsize=18)\n",
    "plt.plot(train_predicted_df[\"train_Predicted\"],color=\"red\")\n",
    "plt.plot(df[\"Passengers\"],color=\"yellow\")\n",
    "plt.plot(test_predict_df[\"test_Predicted\"],color=\"purple\")\n",
    "\n",
    "plt.legend(['train_Predicted', 'test_Predicted'], loc='lower right')"
   ]
  },
  {
   "cell_type": "code",
   "execution_count": null,
   "id": "2e630a2e",
   "metadata": {},
   "outputs": [],
   "source": []
  }
 ],
 "metadata": {
  "kernelspec": {
   "display_name": "Python 3 (ipykernel)",
   "language": "python",
   "name": "python3"
  },
  "language_info": {
   "codemirror_mode": {
    "name": "ipython",
    "version": 3
   },
   "file_extension": ".py",
   "mimetype": "text/x-python",
   "name": "python",
   "nbconvert_exporter": "python",
   "pygments_lexer": "ipython3",
   "version": "3.9.12"
  }
 },
 "nbformat": 4,
 "nbformat_minor": 5
}
